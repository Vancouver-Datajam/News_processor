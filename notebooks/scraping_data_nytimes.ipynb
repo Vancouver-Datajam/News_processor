{
  "nbformat": 4,
  "nbformat_minor": 0,
  "metadata": {
    "colab": {
      "provenance": []
    },
    "kernelspec": {
      "name": "python3",
      "display_name": "Python 3"
    },
    "language_info": {
      "name": "python"
    }
  },
  "cells": [
    {
      "cell_type": "markdown",
      "source": [
        "New York Times Data set\n",
        "\n",
        "---\n",
        "\n"
      ],
      "metadata": {
        "id": "u_Flkn8HKEuC"
      }
    },
    {
      "cell_type": "code",
      "execution_count": 2,
      "metadata": {
        "colab": {
          "base_uri": "https://localhost:8080/"
        },
        "id": "lfUEytEcKCvN",
        "outputId": "d561d93e-2a0a-4296-936f-c9e06793fd1c"
      },
      "outputs": [
        {
          "output_type": "stream",
          "name": "stdout",
          "text": [
            "[{'sentiment': 0, 'headline': 'How Climate Week in New York Turned Into ‘Burning Man for Climate Geeks’', 'url': 'https://www.nytimes.com/2023/09/21/climate/climate-week-new-york.html'}, {'sentiment': 0, 'headline': 'The Fault Lines at Climate Week', 'url': 'https://www.nytimes.com/2023/09/21/climate/the-fault-lines-at-climate-week.html'}, {'sentiment': 0, 'headline': 'In Large and Small Ways, These Leaders Are Taking On Climate Change', 'url': 'https://www.nytimes.com/2023/09/20/climate/climate-foward-profiles.html'}, {'sentiment': 0, 'headline': 'At a Summit on Climate Ambition, the U.S. and China End Up on the B List', 'url': 'https://www.nytimes.com/2023/09/20/climate/guterres-un-climate-summit.html'}, {'sentiment': 0, 'headline': 'White House Directs Agencies to Account for Climate Change in Budgets', 'url': 'https://www.nytimes.com/2023/09/21/climate/biden-climate-change-economic-cost.html'}, {'sentiment': 0, 'headline': 'Climate Protesters Around the World Sharpen Their Message', 'url': 'https://www.nytimes.com/interactive/2023/09/18/climate/global-climate-protests.html'}, {'sentiment': 0, 'headline': 'U.N. Chief’s Test: Shaming Without Naming the World’s Climate Delinquents', 'url': 'https://www.nytimes.com/2023/09/19/climate/guterres-climate-summit.html'}, {'sentiment': 0, 'headline': 'Wanted: 20,000 Young Americans to Fight Climate Change', 'url': 'https://www.nytimes.com/2023/09/20/climate/biden-climate-corps-youth.html'}, {'sentiment': 0, 'headline': 'California Governor to Sign Landmark Climate Disclosure Bill', 'url': 'https://www.nytimes.com/2023/09/17/climate/california-climate-disclosure-law.html'}, {'sentiment': 0, 'headline': 'Bill Gates Champions Innovation as Way to Combat Climate Change', 'url': 'https://www.nytimes.com/video/climate/100000009097622/bill-gates-climate-change.html'}]\n"
          ]
        }
      ],
      "source": [
        "import requests\n",
        "\n",
        "API_KEY = \"HpQIkU9rKenMSIl57pAjqJ8JPER2EJRJ\"  # Replace with your actual API key\n",
        "API_ENDPOINT = \"https://api.nytimes.com/svc/search/v2/articlesearch.json\"\n",
        "QUERY = \"climate\"  # Replace with your desired query\n",
        "\n",
        "def scrape_nyt_articles(api_key, query):\n",
        "    params = {\n",
        "        'q': query,\n",
        "        'api-key': api_key\n",
        "    }\n",
        "    response = requests.get(API_ENDPOINT, params=params)\n",
        "\n",
        "    if response.status_code == 200:\n",
        "        data = response.json()\n",
        "        articles = data['response']['docs']\n",
        "\n",
        "        # Extract headlines and URLs\n",
        "        headlines_urls = [{'sentiment': 0, 'headline': article['headline']['main'], 'url': article['web_url']} for article in articles]\n",
        "        return headlines_urls\n",
        "    else:\n",
        "        print(\"Failed to fetch data\")\n",
        "        return []\n",
        "\n",
        "if __name__ == \"__main__\":\n",
        "    headlines_urls = scrape_nyt_articles(API_KEY, QUERY)\n",
        "\n",
        "    # Print the headlines and URLs of the articles\n",
        "    print(headlines_urls)\n",
        "\n"
      ]
    },
    {
      "cell_type": "code",
      "source": [
        "import csv"
      ],
      "metadata": {
        "id": "t3nlpvlxKwoQ"
      },
      "execution_count": 3,
      "outputs": []
    },
    {
      "cell_type": "code",
      "source": [
        "with open(\"output_nytimes.csv\",\"w\",newline=\"\") as f:  # python 2: open(\"output.csv\",\"wb\")\n",
        "    title = \"sentiment,headline,url\".split(\",\") # quick hack\n",
        "    cw = csv.DictWriter(f,title,delimiter=',', quotechar='|', quoting=csv.QUOTE_MINIMAL)\n",
        "    cw.writeheader()\n",
        "    cw.writerows(headlines_urls)"
      ],
      "metadata": {
        "id": "8yAcneB-Ky32"
      },
      "execution_count": 4,
      "outputs": []
    }
  ]
}