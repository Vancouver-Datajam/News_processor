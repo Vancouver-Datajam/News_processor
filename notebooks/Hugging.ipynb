{
 "cells": [
  {
   "cell_type": "markdown",
   "id": "f58587c7",
   "metadata": {
    "scrolled": false
   },
   "source": [
    "# Reading Library"
   ]
  },
  {
   "cell_type": "code",
   "execution_count": null,
   "id": "fedb032f",
   "metadata": {},
   "outputs": [],
   "source": [
    "from datasets import load_dataset\n",
    "import pandas as pd\n",
    "import numpy as np\n",
    "import os\n",
    "\n",
    "from nltk.tokenize import word_tokenize\n",
    "from sklearn.model_selection import train_test_split\n",
    "from sklearn.feature_extraction.text import TfidfVectorizer\n",
    "\n",
    "# Load the dataset\n",
    "dataset = load_dataset(\"climatebert/climate_sentiment\")\n",
    "\n",
    "# Convert the train split to a Pandas DataFrame\n",
    "train_df = dataset['train'].to_pandas()\n",
    "\n",
    "# Convert the test split to a Pandas DataFrame\n",
    "test_df = dataset['test'].to_pandas()\n",
    "\n",
    "# Concatenate train and test dataframes\n",
    "dataframe = pd.concat([train_df, test_df], ignore_index=True)\n",
    "dataframe.columns = ['message', 'sentiment']\n",
    "print(dataframe.head())\n",
    "print(dataframe.keys())"
   ]
  },
  {
   "cell_type": "code",
   "execution_count": 2,
   "id": "35099adf",
   "metadata": {},
   "outputs": [
    {
     "data": {
      "text/html": [
       "<div>\n",
       "<style scoped>\n",
       "    .dataframe tbody tr th:only-of-type {\n",
       "        vertical-align: middle;\n",
       "    }\n",
       "\n",
       "    .dataframe tbody tr th {\n",
       "        vertical-align: top;\n",
       "    }\n",
       "\n",
       "    .dataframe thead th {\n",
       "        text-align: right;\n",
       "    }\n",
       "</style>\n",
       "<table border=\"1\" class=\"dataframe\">\n",
       "  <thead>\n",
       "    <tr style=\"text-align: right;\">\n",
       "      <th></th>\n",
       "      <th>message</th>\n",
       "      <th>sentiment</th>\n",
       "    </tr>\n",
       "  </thead>\n",
       "  <tbody>\n",
       "    <tr>\n",
       "      <th>0</th>\n",
       "      <td>− Scope 3: Optional scope that includes indirect emissions associated with the goods and services supply chain produced outside the organization. Included are emissions from the transport of products from our logistics centres to stores (downstream) performed by external logistics operators (air, land and sea transport) as well as the emissions associated with electricity consumption in franchise stores.</td>\n",
       "      <td>1</td>\n",
       "    </tr>\n",
       "    <tr>\n",
       "      <th>1</th>\n",
       "      <td>The Group is not aware of any noise pollution that could negatively impact the environment, nor is it aware of any impact on biodiversity. With regards to land use, the Group is only a commercial user, and the Group is not aware of any local constraints with regards to water supply. The Group does not believe that it is at risk with regards to climate change in the near-or mid-term.</td>\n",
       "      <td>0</td>\n",
       "    </tr>\n",
       "    <tr>\n",
       "      <th>2</th>\n",
       "      <td>Global climate change could exacerbate certain of the threats facing our business, including the frequency and severity of weather-related events referred to in Performance of critical infrastructure in this section 9. In addition, increases in energy prices are partly influenced by government policies to address climate change which, combined with a growing data demand that increases our energy requirements, could increase our energy costs beyond our current expectations.</td>\n",
       "      <td>0</td>\n",
       "    </tr>\n",
       "    <tr>\n",
       "      <th>3</th>\n",
       "      <td>Setting an investment horizon is part and parcel of our policy of focusing on the long term and helping clients to build capital. Both financial and non-financial aspects play a role in measuring investment returns. Even if we make a successful investment in a mining company today, the same company may nonetheless cause damage to the environment tomorrow, and thus be compelled to make substantial provisions for improving its waste-processing activities and paying fines. As an asset manager that focuses on the long-term prospects, we can’t ignore the non-financial aspects.</td>\n",
       "      <td>0</td>\n",
       "    </tr>\n",
       "    <tr>\n",
       "      <th>4</th>\n",
       "      <td>Climate change the physical impacts of climate change on our operations are uncertain and particular to geographic circumstances. in addition, a number of national governments have already introduced or are contemplating the introduction of regulatory responses to greenhouse gas emissions from the combustion of fossil fuels to address the impacts of climate change. these physical effects and regulatory responses may adversely impact the productivity and financial performance of our operations.</td>\n",
       "      <td>0</td>\n",
       "    </tr>\n",
       "    <tr>\n",
       "      <th>...</th>\n",
       "      <td>...</td>\n",
       "      <td>...</td>\n",
       "    </tr>\n",
       "    <tr>\n",
       "      <th>1315</th>\n",
       "      <td>Indirect emissions result from operational activities we do not own or control. These include indirect energy emissions produced as a consequence of electricity we purchase to power our treatment plants and other indirect emissions as a consequence of our activities, e.g. from travel on company business and sludge and process waste disposal emissions.</td>\n",
       "      <td>1</td>\n",
       "    </tr>\n",
       "    <tr>\n",
       "      <th>1316</th>\n",
       "      <td>All data in this TCFD report is as of, or for the year-ended December 31, 2020 unless otherwise noted. References to Daimler’s Sustainability Report 2020 will be available with its publication by March 29, 2021. References to the CDP Climate Change Questionnaire are related to the reporting year 2019.</td>\n",
       "      <td>1</td>\n",
       "    </tr>\n",
       "    <tr>\n",
       "      <th>1317</th>\n",
       "      <td>Outcome: The bank explained that it would be winding down its fossil fuel-related merger and acquisition advice, investing substantially in clean tech and banking services, and that it was preparing its first TCFD report.</td>\n",
       "      <td>1</td>\n",
       "    </tr>\n",
       "    <tr>\n",
       "      <th>1318</th>\n",
       "      <td>In 2020, Banco do Brasil Foundation celebrated its 35th anniversary. Along its journey, it has contributed to the societal transformation of Brazilians and the sustainable development of the country, focused on serving the society’s most vulnerable segments, from north to south, from east to west, in cities and the countryside.</td>\n",
       "      <td>2</td>\n",
       "    </tr>\n",
       "    <tr>\n",
       "      <th>1319</th>\n",
       "      <td>Climate change is producing changes in weather and other environmental conditions, including temperature and precipitation levels, and thus may affect consumer demand for electricity. In addition, the potential physical effects of climate change, such as increased frequency and severity of storms, floods and other climatic events, could disrupt NRG's operations and supply chain, and cause them to incur significant costs in preparing for or responding to these effects. These or other meteorological changes could lead to increased operating costs, capital expenses or power purchase costs. NRG's commercial and residential customers may also experience the potential physical impacts of climate change and may incur significant costs in preparing for or responding to these efforts, including increasing the mix and resiliency of their energy solutions and supply.</td>\n",
       "      <td>0</td>\n",
       "    </tr>\n",
       "  </tbody>\n",
       "</table>\n",
       "<p>1320 rows × 2 columns</p>\n",
       "</div>"
      ],
      "text/plain": [
       "                                                                                                                                                                                                                                                                                                                                                                                                                                                                                                                                                                                                                                                                                                                                                                                                                                                                                                   message  \\\n",
       "0                                                                                                                                                                                                                                                                                                                                                                                                                                                                                  − Scope 3: Optional scope that includes indirect emissions associated with the goods and services supply chain produced outside the organization. Included are emissions from the transport of products from our logistics centres to stores (downstream) performed by external logistics operators (air, land and sea transport) as well as the emissions associated with electricity consumption in franchise stores.   \n",
       "1                                                                                                                                                                                                                                                                                                                                                                                                                                                                                                        The Group is not aware of any noise pollution that could negatively impact the environment, nor is it aware of any impact on biodiversity. With regards to land use, the Group is only a commercial user, and the Group is not aware of any local constraints with regards to water supply. The Group does not believe that it is at risk with regards to climate change in the near-or mid-term.   \n",
       "2                                                                                                                                                                                                                                                                                                                                                                                                            Global climate change could exacerbate certain of the threats facing our business, including the frequency and severity of weather-related events referred to in Performance of critical infrastructure in this section 9. In addition, increases in energy prices are partly influenced by government policies to address climate change which, combined with a growing data demand that increases our energy requirements, could increase our energy costs beyond our current expectations.   \n",
       "3                                                                                                                                                                                                                                                                                                       Setting an investment horizon is part and parcel of our policy of focusing on the long term and helping clients to build capital. Both financial and non-financial aspects play a role in measuring investment returns. Even if we make a successful investment in a mining company today, the same company may nonetheless cause damage to the environment tomorrow, and thus be compelled to make substantial provisions for improving its waste-processing activities and paying fines. As an asset manager that focuses on the long-term prospects, we can’t ignore the non-financial aspects.   \n",
       "4                                                                                                                                                                                                                                                                                                                                                                                       Climate change the physical impacts of climate change on our operations are uncertain and particular to geographic circumstances. in addition, a number of national governments have already introduced or are contemplating the introduction of regulatory responses to greenhouse gas emissions from the combustion of fossil fuels to address the impacts of climate change. these physical effects and regulatory responses may adversely impact the productivity and financial performance of our operations.   \n",
       "...                                                                                                                                                                                                                                                                                                                                                                                                                                                                                                                                                                                                                                                                                                                                                                                                                                                                                                    ...   \n",
       "1315                                                                                                                                                                                                                                                                                                                                                                                                                                                                                                                                     Indirect emissions result from operational activities we do not own or control. These include indirect energy emissions produced as a consequence of electricity we purchase to power our treatment plants and other indirect emissions as a consequence of our activities, e.g. from travel on company business and sludge and process waste disposal emissions.   \n",
       "1316                                                                                                                                                                                                                                                                                                                                                                                                                                                                                                                                                                                        All data in this TCFD report is as of, or for the year-ended December 31, 2020 unless otherwise noted. References to Daimler’s Sustainability Report 2020 will be available with its publication by March 29, 2021. References to the CDP Climate Change Questionnaire are related to the reporting year 2019.   \n",
       "1317                                                                                                                                                                                                                                                                                                                                                                                                                                                                                                                                                                                                                                                                         Outcome: The bank explained that it would be winding down its fossil fuel-related merger and acquisition advice, investing substantially in clean tech and banking services, and that it was preparing its first TCFD report.   \n",
       "1318                                                                                                                                                                                                                                                                                                                                                                                                                                                                                                                                                             In 2020, Banco do Brasil Foundation celebrated its 35th anniversary. Along its journey, it has contributed to the societal transformation of Brazilians and the sustainable development of the country, focused on serving the society’s most vulnerable segments, from north to south, from east to west, in cities and the countryside.   \n",
       "1319  Climate change is producing changes in weather and other environmental conditions, including temperature and precipitation levels, and thus may affect consumer demand for electricity. In addition, the potential physical effects of climate change, such as increased frequency and severity of storms, floods and other climatic events, could disrupt NRG's operations and supply chain, and cause them to incur significant costs in preparing for or responding to these effects. These or other meteorological changes could lead to increased operating costs, capital expenses or power purchase costs. NRG's commercial and residential customers may also experience the potential physical impacts of climate change and may incur significant costs in preparing for or responding to these efforts, including increasing the mix and resiliency of their energy solutions and supply.   \n",
       "\n",
       "      sentiment  \n",
       "0             1  \n",
       "1             0  \n",
       "2             0  \n",
       "3             0  \n",
       "4             0  \n",
       "...         ...  \n",
       "1315          1  \n",
       "1316          1  \n",
       "1317          1  \n",
       "1318          2  \n",
       "1319          0  \n",
       "\n",
       "[1320 rows x 2 columns]"
      ]
     },
     "execution_count": 2,
     "metadata": {},
     "output_type": "execute_result"
    }
   ],
   "source": [
    "pd.set_option('display.max_colwidth', None)\n",
    "dataframe"
   ]
  },
  {
   "cell_type": "markdown",
   "id": "29ef1f80",
   "metadata": {},
   "source": [
    "# Data Preprocessing\n",
    "\n",
    "## Steps\n",
    "\n",
    "1. Cleaning the data by removing speical characters and numbers using regular expression\n",
    "2. Removing stop words such as \"a\", \"the\", \"and\", etc.\n",
    "3. Convert all words in text to lower cases\n",
    "\n",
    "### Reference\n",
    "https://www.baeldung.com/cs/naive-bayes-classification-performance"
   ]
  },
  {
   "cell_type": "code",
   "execution_count": 3,
   "id": "2070a9e1",
   "metadata": {},
   "outputs": [],
   "source": [
    "import re\n",
    "\n",
    "def clean_message(text):\n",
    "    # Remove numbers\n",
    "    text = re.sub(r'\\d+', '', text)\n",
    "    \n",
    "    # Remove special characters and punctuation\n",
    "    text = re.sub(r'[^A-Za-z\\s]', '', text)\n",
    "    \n",
    "    # Remove extra whitespace\n",
    "    text = ' '.join(text.split())\n",
    "    \n",
    "    return text\n",
    "\n",
    "# Apply the cleaning function to the \"message\" column\n",
    "dataframe['message'] = dataframe['message'].apply(clean_message)"
   ]
  },
  {
   "cell_type": "code",
   "execution_count": 5,
   "id": "3ec9ed65",
   "metadata": {},
   "outputs": [],
   "source": [
    "def tokenize_message(text):\n",
    "    return word_tokenize(text)\n",
    "\n",
    "dataframe['tokenized_message'] = dataframe['message'].apply(tokenize_message)"
   ]
  },
  {
   "cell_type": "code",
   "execution_count": 6,
   "id": "c5ee67bd",
   "metadata": {},
   "outputs": [],
   "source": [
    "# Remove stop words\n",
    "import nltk\n",
    "from nltk.corpus import stopwords\n",
    "\n",
    "# nltk.download('stopwords')\n",
    "stop_words = set(stopwords.words('english'))  # Change 'english' to your language if needed\n",
    "\n",
    "def remove_stopwords(tokenized_text):\n",
    "    return [word for word in tokenized_text if word.lower() not in stop_words]\n",
    "\n",
    "dataframe['tokenized_message'] = dataframe['tokenized_message'].apply(remove_stopwords)"
   ]
  },
  {
   "cell_type": "code",
   "execution_count": 7,
   "id": "0c7c529b",
   "metadata": {},
   "outputs": [],
   "source": [
    "# Convert all words to lowercase\n",
    "def convert_to_lowercase(tokenized_text):\n",
    "    return [word.lower() for word in tokenized_text]\n",
    "\n",
    "dataframe['tokenized_message'] = dataframe['tokenized_message'].apply(convert_to_lowercase)"
   ]
  },
  {
   "cell_type": "code",
   "execution_count": 8,
   "id": "1c2b5c44",
   "metadata": {},
   "outputs": [],
   "source": [
    "dataframe = dataframe[['sentiment', 'tokenized_message']]"
   ]
  },
  {
   "cell_type": "markdown",
   "id": "a3265dc9",
   "metadata": {},
   "source": [
    "# Data Splitting"
   ]
  },
  {
   "cell_type": "code",
   "execution_count": 10,
   "id": "475c7847",
   "metadata": {},
   "outputs": [],
   "source": [
    "X = dataframe['tokenized_message']\n",
    "y = dataframe['sentiment']\n",
    "X_train, X_test, y_train, y_valid = train_test_split(X, y, test_size=0.2, random_state=42)"
   ]
  },
  {
   "cell_type": "code",
   "execution_count": 11,
   "id": "8886560c",
   "metadata": {},
   "outputs": [],
   "source": [
    "# Convert lists of tokens back into strings\n",
    "X_train = X_train.apply(lambda x: ' '.join(x))\n",
    "X_test = X_test.apply(lambda x: ' '.join(x))\n",
    "\n",
    "# TF-IDF Vectorization\n",
    "tfidf_vectorizer = TfidfVectorizer(max_features=5000)\n",
    "X_train_tfidf = tfidf_vectorizer.fit_transform(X_train)\n",
    "X_valid_tfidf = tfidf_vectorizer.transform(X_test)"
   ]
  },
  {
   "cell_type": "markdown",
   "id": "9bf8afc6",
   "metadata": {},
   "source": [
    "# Support Vector Machine (SVM) Model"
   ]
  },
  {
   "cell_type": "code",
   "execution_count": 12,
   "id": "99c04b52",
   "metadata": {},
   "outputs": [
    {
     "name": "stdout",
     "output_type": "stream",
     "text": [
      "SVM Training Accuracy: 0.9962121212121212\n",
      "SVM Validation Accuracy: 0.7613636363636364\n"
     ]
    }
   ],
   "source": [
    "from sklearn.svm import SVC\n",
    "from sklearn.metrics import accuracy_score\n",
    "\n",
    "# Initialize the SVM model\n",
    "svm = SVC()\n",
    "\n",
    "# Train the model on the training data\n",
    "svm.fit(X_train_tfidf, y_train)\n",
    "\n",
    "# Make predictions on the training set\n",
    "y_train_pred_svm = svm.predict(X_train_tfidf)\n",
    "\n",
    "# Make predictions on the validation set\n",
    "y_valid_pred_svm = svm.predict(X_valid_tfidf)\n",
    "\n",
    "# Calculate accuracy on the training and validation sets\n",
    "training_accuracy_svm = accuracy_score(y_train, y_train_pred_svm)\n",
    "validation_accuracy_svm = accuracy_score(y_valid, y_valid_pred_svm)\n",
    "\n",
    "print(\"SVM Training Accuracy:\", training_accuracy_svm)\n",
    "print(\"SVM Validation Accuracy:\", validation_accuracy_svm)"
   ]
  },
  {
   "cell_type": "code",
   "execution_count": 13,
   "id": "51232df5",
   "metadata": {},
   "outputs": [
    {
     "name": "stdout",
     "output_type": "stream",
     "text": [
      "Intel MKL WARNING: Support of Intel(R) Streaming SIMD Extensions 4.2 (Intel(R) SSE4.2) enabled only processors has been deprecated. Intel oneAPI Math Kernel Library 2025.0 will require Intel(R) Advanced Vector Extensions (Intel(R) AVX) instructions.\n",
      "Intel MKL WARNING: Support of Intel(R) Streaming SIMD Extensions 4.2 (Intel(R) SSE4.2) enabled only processors has been deprecated. Intel oneAPI Math Kernel Library 2025.0 will require Intel(R) Advanced Vector Extensions (Intel(R) AVX) instructions.\n",
      "Intel MKL WARNING: Support of Intel(R) Streaming SIMD Extensions 4.2 (Intel(R) SSE4.2) enabled only processors has been deprecated. Intel oneAPI Math Kernel Library 2025.0 will require Intel(R) Advanced Vector Extensions (Intel(R) AVX) instructions.\n",
      "Intel MKL WARNING: Support of Intel(R) Streaming SIMD Extensions 4.2 (Intel(R) SSE4.2) enabled only processors has been deprecated. Intel oneAPI Math Kernel Library 2025.0 will require Intel(R) Advanced Vector Extensions (Intel(R) AVX) instructions.\n",
      "Intel MKL WARNING: Support of Intel(R) Streaming SIMD Extensions 4.2 (Intel(R) SSE4.2) enabled only processors has been deprecated. Intel oneAPI Math Kernel Library 2025.0 will require Intel(R) Advanced Vector Extensions (Intel(R) AVX) instructions.\n",
      "Intel MKL WARNING: Support of Intel(R) Streaming SIMD Extensions 4.2 (Intel(R) SSE4.2) enabled only processors has been deprecated. Intel oneAPI Math Kernel Library 2025.0 will require Intel(R) Advanced Vector Extensions (Intel(R) AVX) instructions.\n",
      "Intel MKL WARNING: Support of Intel(R) Streaming SIMD Extensions 4.2 (Intel(R) SSE4.2) enabled only processors has been deprecated. Intel oneAPI Math Kernel Library 2025.0 will require Intel(R) Advanced Vector Extensions (Intel(R) AVX) instructions.\n",
      "Intel MKL WARNING: Support of Intel(R) Streaming SIMD Extensions 4.2 (Intel(R) SSE4.2) enabled only processors has been deprecated. Intel oneAPI Math Kernel Library 2025.0 will require Intel(R) Advanced Vector Extensions (Intel(R) AVX) instructions.\n",
      "Intel MKL WARNING: Support of Intel(R) Streaming SIMD Extensions 4.2 (Intel(R) SSE4.2) enabled only processors has been deprecated. Intel oneAPI Math Kernel Library 2025.0 will require Intel(R) Advanced Vector Extensions (Intel(R) AVX) instructions.\n",
      "Intel MKL WARNING: Support of Intel(R) Streaming SIMD Extensions 4.2 (Intel(R) SSE4.2) enabled only processors has been deprecated. Intel oneAPI Math Kernel Library 2025.0 will require Intel(R) Advanced Vector Extensions (Intel(R) AVX) instructions.\n",
      "Intel MKL WARNING: Support of Intel(R) Streaming SIMD Extensions 4.2 (Intel(R) SSE4.2) enabled only processors has been deprecated. Intel oneAPI Math Kernel Library 2025.0 will require Intel(R) Advanced Vector Extensions (Intel(R) AVX) instructions.\n",
      "Intel MKL WARNING: Support of Intel(R) Streaming SIMD Extensions 4.2 (Intel(R) SSE4.2) enabled only processors has been deprecated. Intel oneAPI Math Kernel Library 2025.0 will require Intel(R) Advanced Vector Extensions (Intel(R) AVX) instructions.\n",
      "Intel MKL WARNING: Support of Intel(R) Streaming SIMD Extensions 4.2 (Intel(R) SSE4.2) enabled only processors has been deprecated. Intel oneAPI Math Kernel Library 2025.0 will require Intel(R) Advanced Vector Extensions (Intel(R) AVX) instructions.\n",
      "Intel MKL WARNING: Support of Intel(R) Streaming SIMD Extensions 4.2 (Intel(R) SSE4.2) enabled only processors has been deprecated. Intel oneAPI Math Kernel Library 2025.0 will require Intel(R) Advanced Vector Extensions (Intel(R) AVX) instructions.\n",
      "Intel MKL WARNING: Support of Intel(R) Streaming SIMD Extensions 4.2 (Intel(R) SSE4.2) enabled only processors has been deprecated. Intel oneAPI Math Kernel Library 2025.0 will require Intel(R) Advanced Vector Extensions (Intel(R) AVX) instructions.\n",
      "Intel MKL WARNING: Support of Intel(R) Streaming SIMD Extensions 4.2 (Intel(R) SSE4.2) enabled only processors has been deprecated. Intel oneAPI Math Kernel Library 2025.0 will require Intel(R) Advanced Vector Extensions (Intel(R) AVX) instructions.\n",
      "Intel MKL WARNING: Support of Intel(R) Streaming SIMD Extensions 4.2 (Intel(R) SSE4.2) enabled only processors has been deprecated. Intel oneAPI Math Kernel Library 2025.0 will require Intel(R) Advanced Vector Extensions (Intel(R) AVX) instructions.\n",
      "Intel MKL WARNING: Support of Intel(R) Streaming SIMD Extensions 4.2 (Intel(R) SSE4.2) enabled only processors has been deprecated. Intel oneAPI Math Kernel Library 2025.0 will require Intel(R) Advanced Vector Extensions (Intel(R) AVX) instructions.\n",
      "Intel MKL WARNING: Support of Intel(R) Streaming SIMD Extensions 4.2 (Intel(R) SSE4.2) enabled only processors has been deprecated. Intel oneAPI Math Kernel Library 2025.0 will require Intel(R) Advanced Vector Extensions (Intel(R) AVX) instructions.\n",
      "Intel MKL WARNING: Support of Intel(R) Streaming SIMD Extensions 4.2 (Intel(R) SSE4.2) enabled only processors has been deprecated. Intel oneAPI Math Kernel Library 2025.0 will require Intel(R) Advanced Vector Extensions (Intel(R) AVX) instructions.\n",
      "Intel MKL WARNING: Support of Intel(R) Streaming SIMD Extensions 4.2 (Intel(R) SSE4.2) enabled only processors has been deprecated. Intel oneAPI Math Kernel Library 2025.0 will require Intel(R) Advanced Vector Extensions (Intel(R) AVX) instructions.\n",
      "Intel MKL WARNING: Support of Intel(R) Streaming SIMD Extensions 4.2 (Intel(R) SSE4.2) enabled only processors has been deprecated. Intel oneAPI Math Kernel Library 2025.0 will require Intel(R) Advanced Vector Extensions (Intel(R) AVX) instructions.\n",
      "Best SVM Hyperparameters: {'C': 20, 'gamma': 0.1, 'kernel': 'rbf'}\n",
      "Best SVM Training Accuracy: 1.0\n",
      "Best SVM Validation Accuracy: 0.7916666666666666\n"
     ]
    }
   ],
   "source": [
    "from sklearn.model_selection import GridSearchCV\n",
    "\n",
    "# Define a range of hyperparameters to search over\n",
    "param_grid = {\n",
    "    'C': [10, 20 ,30],  # Regularization parameter\n",
    "    'kernel': ['linear', 'rbf', 'poly'],  # Kernel function\n",
    "    'gamma': ['scale', 'auto', 0.1, 1],  # Kernel coefficient (only for 'rbf' and 'poly' kernels)\n",
    "}\n",
    "\n",
    "# Initialize the SVM model\n",
    "svm = SVC()\n",
    "\n",
    "# Initialize the GridSearchCV object with cross-validation\n",
    "grid_search = GridSearchCV(estimator=svm, param_grid=param_grid, cv=5, n_jobs=-1)\n",
    "\n",
    "# Perform hyperparameter tuning on the training data\n",
    "grid_search.fit(X_train_tfidf, y_train)\n",
    "\n",
    "# Get the best hyperparameters from the grid search\n",
    "best_params = grid_search.best_params_\n",
    "\n",
    "# Use the best hyperparameters to create a new SVM model\n",
    "best_svm = SVC(**best_params)\n",
    "\n",
    "# Train the new SVM model on the training data\n",
    "best_svm.fit(X_train_tfidf, y_train)\n",
    "\n",
    "# Make predictions on the training set with the best model\n",
    "y_train_pred_best_svm = best_svm.predict(X_train_tfidf)\n",
    "\n",
    "# Make predictions on the validation set with the best model\n",
    "y_valid_pred_best_svm = best_svm.predict(X_valid_tfidf)\n",
    "\n",
    "# Calculate accuracy on the training and validation sets with the best model\n",
    "training_accuracy_best_svm = accuracy_score(y_train, y_train_pred_best_svm)\n",
    "validation_accuracy_best_svm = accuracy_score(y_valid, y_valid_pred_best_svm)\n",
    "\n",
    "print(\"Best SVM Hyperparameters:\", best_params)\n",
    "print(\"Best SVM Training Accuracy:\", training_accuracy_best_svm)\n",
    "print(\"Best SVM Validation Accuracy:\", validation_accuracy_best_svm)"
   ]
  },
  {
   "cell_type": "markdown",
   "id": "ddefa9be",
   "metadata": {},
   "source": [
    "# Naïve Bayes"
   ]
  },
  {
   "cell_type": "code",
   "execution_count": 14,
   "id": "0bb451b5",
   "metadata": {},
   "outputs": [
    {
     "name": "stdout",
     "output_type": "stream",
     "text": [
      "Naive Bayes Training Accuracy: 0.8787878787878788\n",
      "Naive Bayes Validation Accuracy: 0.7083333333333334\n"
     ]
    }
   ],
   "source": [
    "from sklearn.naive_bayes import MultinomialNB\n",
    "\n",
    "# Initialize the Naive Bayes model\n",
    "naive_bayes = MultinomialNB()\n",
    "\n",
    "# Train the model on the training data\n",
    "naive_bayes.fit(X_train_tfidf, y_train)\n",
    "\n",
    "# Make predictions on the training set\n",
    "y_train_pred_nb = naive_bayes.predict(X_train_tfidf)\n",
    "\n",
    "# Make predictions on the validation set\n",
    "y_valid_pred_nb = naive_bayes.predict(X_valid_tfidf)\n",
    "\n",
    "# Calculate accuracy on the training and validation sets\n",
    "training_accuracy_nb = accuracy_score(y_train, y_train_pred_nb)\n",
    "validation_accuracy_nb = accuracy_score(y_valid, y_valid_pred_nb)\n",
    "\n",
    "print(\"Naive Bayes Training Accuracy:\", training_accuracy_nb)\n",
    "print(\"Naive Bayes Validation Accuracy:\", validation_accuracy_nb)"
   ]
  },
  {
   "cell_type": "code",
   "execution_count": 15,
   "id": "24b4e1b7",
   "metadata": {},
   "outputs": [
    {
     "name": "stdout",
     "output_type": "stream",
     "text": [
      "Naive Bayes Training Accuracy: 0.8787878787878788\n",
      "Naive Bayes Validation Accuracy: 0.7083333333333334\n",
      "Best Alpha: 0.5\n"
     ]
    }
   ],
   "source": [
    "from sklearn.model_selection import GridSearchCV\n",
    "\n",
    "# Initialize the Naive Bayes model\n",
    "naive_bayes = MultinomialNB()\n",
    "\n",
    "# Define a range of alpha values to try\n",
    "param_grid = {\n",
    "    'alpha': [0.001, 0.01, 0.1, 0.5, 1.0, 2.0, 5.0, 10.0],\n",
    "    'fit_prior': [True, False],\n",
    "    'class_prior': [None, [0.3, 0.4, 0.3]]\n",
    "}\n",
    "\n",
    "# Perform grid search with cross-validation\n",
    "grid_search = GridSearchCV(naive_bayes, param_grid, cv=5, scoring='accuracy')\n",
    "grid_search.fit(X_train_tfidf, y_train)\n",
    "\n",
    "# Get the best hyperparameters from grid search\n",
    "best_alpha = grid_search.best_params_['alpha']\n",
    "best_fit_prior = grid_search.best_params_['fit_prior']\n",
    "best_class_prior = grid_search.best_params_['class_prior']\n",
    "\n",
    "# Initialize a new Naive Bayes model with the best hyperparameters\n",
    "best_naive_bayes = MultinomialNB(\n",
    "    alpha=best_alpha,\n",
    "    fit_prior=best_fit_prior,\n",
    "    class_prior=best_class_prior\n",
    ")\n",
    "\n",
    "# Train the final model on the entire training dataset\n",
    "best_naive_bayes.fit(X_train_tfidf, y_train)\n",
    "\n",
    "# Train the model on the training data\n",
    "naive_bayes.fit(X_train_tfidf, y_train)\n",
    "\n",
    "# Make predictions on the training set\n",
    "y_train_pred_nb = naive_bayes.predict(X_train_tfidf)\n",
    "\n",
    "# Make predictions on the validation set\n",
    "y_valid_pred_nb = naive_bayes.predict(X_valid_tfidf)\n",
    "\n",
    "# Calculate accuracy on the training and validation sets\n",
    "training_accuracy_nb = accuracy_score(y_train, y_train_pred_nb)\n",
    "validation_accuracy_nb = accuracy_score(y_valid, y_valid_pred_nb)\n",
    "\n",
    "print(\"Naive Bayes Training Accuracy:\", training_accuracy_nb)\n",
    "print(\"Naive Bayes Validation Accuracy:\", validation_accuracy_nb)\n",
    "print(\"Best Alpha:\", best_alpha)\n"
   ]
  },
  {
   "cell_type": "markdown",
   "id": "66bc9f02",
   "metadata": {},
   "source": [
    "# LogisticRegression"
   ]
  },
  {
   "cell_type": "code",
   "execution_count": 18,
   "id": "978b3c4b",
   "metadata": {},
   "outputs": [
    {
     "name": "stdout",
     "output_type": "stream",
     "text": [
      "Logistic Regression Training Accuracy: 0.9545454545454546\n",
      "Logistic Regression Validation Accuracy: 0.7727272727272727\n"
     ]
    }
   ],
   "source": [
    "from sklearn.linear_model import LogisticRegression\n",
    "logistic_regression = LogisticRegression()\n",
    "# Train the model on the training data\n",
    "logistic_regression.fit(X_train_tfidf, y_train)\n",
    "\n",
    "# Make predictions on the training set\n",
    "y_train_pred_lr = logistic_regression.predict(X_train_tfidf)\n",
    "\n",
    "# Make predictions on the validation set\n",
    "y_valid_pred_lr = logistic_regression.predict(X_valid_tfidf)\n",
    "\n",
    "# Calculate accuracy on the training and validation sets\n",
    "training_accuracy_lr = accuracy_score(y_train, y_train_pred_lr)\n",
    "validation_accuracy_lr = accuracy_score(y_valid, y_valid_pred_lr)\n",
    "\n",
    "print(\"Logistic Regression Training Accuracy:\", training_accuracy_lr)\n",
    "print(\"Logistic Regression Validation Accuracy:\", validation_accuracy_lr)"
   ]
  },
  {
   "cell_type": "code",
   "execution_count": 16,
   "id": "173285d9",
   "metadata": {},
   "outputs": [
    {
     "name": "stdout",
     "output_type": "stream",
     "text": [
      "Logistic Regression Training Accuracy: 0.6732954545454546\n",
      "Logistic Regression Validation Accuracy: 0.6136363636363636\n"
     ]
    }
   ],
   "source": [
    "# The l1 penalty encourages sparsity in the model by adding a penalty term that\n",
    "# encourages many feature coefficients to be exactly zero. This can be useful when\n",
    "# you suspect that many features are irrelevant or redundant.\n",
    "# The l2 penalty adds a penalty term based on the square of the coefficients' magnitudes.\n",
    "# It discourages coefficients from becoming too large, which helps prevent overfitting.\n",
    "\n",
    "# A smaller C value, such as 0.1, increases the strength of regularization.\n",
    "# In other words, it adds a stronger penalty for large coefficient values.\n",
    "# This can help prevent overfitting by keeping the model's coefficients smaller.\n",
    "\n",
    "logistic_regression = LogisticRegression(penalty='l2', C=0.1, max_iter=1000)\n",
    "\n",
    "# Train the model on the training data\n",
    "logistic_regression.fit(X_train_tfidf, y_train)\n",
    "\n",
    "# Make predictions on the training set\n",
    "y_train_pred_lr = logistic_regression.predict(X_train_tfidf)\n",
    "\n",
    "# Make predictions on the validation set\n",
    "y_valid_pred_lr = logistic_regression.predict(X_valid_tfidf)\n",
    "\n",
    "# Calculate accuracy on the training and validation sets\n",
    "training_accuracy_lr = accuracy_score(y_train, y_train_pred_lr)\n",
    "validation_accuracy_lr = accuracy_score(y_valid, y_valid_pred_lr)\n",
    "\n",
    "print(\"Logistic Regression Training Accuracy:\", training_accuracy_lr)\n",
    "print(\"Logistic Regression Validation Accuracy:\", validation_accuracy_lr)\n",
    "\n",
    "# We successfully reduced overfitting; however, since the dataset has 3 levels (negative, neutral, positive),\n",
    "# and logistic regression is for binary decision, it may not perform optimally."
   ]
  },
  {
   "cell_type": "markdown",
   "id": "bbb3cf19",
   "metadata": {},
   "source": [
    "# Limitations"
   ]
  },
  {
   "cell_type": "markdown",
   "id": "4e7a1042",
   "metadata": {},
   "source": [
    "Logistic Regression Model Limitations:\n",
    "\n",
    "Initially, the Logistic Regression model exhibited strong performance with a training accuracy of 95.45% and a validation accuracy of 77.27%. However, when applied to the sentiment analysis task with three levels (negative, neutral, positive), Logistic Regression struggled to achieve optimal results. This is because Logistic Regression is inherently designed for binary classification, making it less suitable for multi-class problems like ours. The model's performance dropped significantly after tuning, with a training accuracy of 67.33% and a validation accuracy of 61.36%. This decrease in accuracy suggests that despite efforts to reduce overfitting, Logistic Regression may not capture the nuances of multi-class sentiment analysis effectively.\n",
    "\n",
    "Naive Bayes Model Limitations:\n",
    "\n",
    "Despite our best efforts, we encountered challenges with the Naive Bayes model. Even after extensive hyperparameter tuning, we faced overfitting issues, where the model performed exceptionally well on the training data but struggled to generalize to unseen validation data. Specifically, the Naive Bayes model achieved a high training accuracy of 87.88%, but its validation accuracy remained at a comparatively lower 70.83%. This suggests that the model may have become overly complex or that we need to explore further techniques to control overfitting.\n",
    "\n",
    "SVM Model Limitations:\n",
    "\n",
    "Similarly, with the SVM model, we encountered certain limitations. Although we performed hyperparameter tuning and obtained the best hyperparameters (C=20, gamma=0.1, kernel='rbf'), we still observed a slight performance gap between the training accuracy (100%) and the validation accuracy (79.17%). This discrepancy implies that, despite optimization efforts, there might be inherent limitations in the SVM's ability to generalize to unseen data. The SVM model excels at finding complex decision boundaries, but it may not fully capture the intricacies of sentiment analysis, especially in cases where the data exhibits high nonlinearity or complex relationships. Further strategies may be necessary to mitigate this performance gap and enhance model generalization.\n",
    "\n",
    "Improvements:\n",
    "\n",
    "To address these limitations, it may be beneficial to explore more advanced algorithms explicitly designed for multi-class sentiment analysis, such as gradient boosting methods (e.g., XGBoost) or deep learning approaches (e.g., neural networks with embeddings). "
   ]
  }
 ],
 "metadata": {
  "kernelspec": {
   "display_name": "Python 3 (ipykernel)",
   "language": "python",
   "name": "python3"
  },
  "language_info": {
   "codemirror_mode": {
    "name": "ipython",
    "version": 3
   },
   "file_extension": ".py",
   "mimetype": "text/x-python",
   "name": "python",
   "nbconvert_exporter": "python",
   "pygments_lexer": "ipython3",
   "version": "3.9.17"
  }
 },
 "nbformat": 4,
 "nbformat_minor": 5
}
